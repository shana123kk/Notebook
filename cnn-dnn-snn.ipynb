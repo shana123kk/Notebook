{
 "cells": [
  {
   "cell_type": "markdown",
   "id": "93595c82",
   "metadata": {
    "papermill": {
     "duration": 0.010274,
     "end_time": "2023-12-03T13:31:55.871182",
     "exception": false,
     "start_time": "2023-12-03T13:31:55.860908",
     "status": "completed"
    },
    "tags": []
   },
   "source": [
    "# ***Digit Recognition with Convolutional Neural Networks (CNN), Deep Neural Networks (DNN), and Simple Neural Networks (SNN)*** "
   ]
  },
  {
   "cell_type": "markdown",
   "id": "725149f4",
   "metadata": {
    "papermill": {
     "duration": 0.009512,
     "end_time": "2023-12-03T13:31:55.890656",
     "exception": false,
     "start_time": "2023-12-03T13:31:55.881144",
     "status": "completed"
    },
    "tags": []
   },
   "source": [
    "\n",
    "There are three powerful neural network architectures to tackle the challenging task of digit recognition. Leveraging Convolutional Neural Networks (CNNs), we benefit from specialized layers designed for image-related tasks, allowing the model to automatically extract intricate features from handwritten digits. The journey continues with Deep Neural Networks (DNNs), offering a versatile approach with multiple hidden layers to capture complex relationships within the data. Additionally, we delve into the realm of Simple Neural Networks (SNNs), foundational architectures that demonstrate the neural network basics."
   ]
  },
  {
   "cell_type": "markdown",
   "id": "092e1852",
   "metadata": {
    "papermill": {
     "duration": 0.009514,
     "end_time": "2023-12-03T13:31:55.909901",
     "exception": false,
     "start_time": "2023-12-03T13:31:55.900387",
     "status": "completed"
    },
    "tags": []
   },
   "source": [
    "![](http://www.researchgate.net/profile/James-Landay/publication/221518120/figure/fig4/AS:668489102659594@1536391630464/Our-Digits-task-requires-recognition-of-handwritten-digits-Participants-collect-data.png)"
   ]
  },
  {
   "cell_type": "markdown",
   "id": "5210d975",
   "metadata": {
    "papermill": {
     "duration": 0.009497,
     "end_time": "2023-12-03T13:31:55.929102",
     "exception": false,
     "start_time": "2023-12-03T13:31:55.919605",
     "status": "completed"
    },
    "tags": []
   },
   "source": [
    "## **visualisation and preprocessing**"
   ]
  },
  {
   "cell_type": "code",
   "execution_count": 1,
   "id": "2682550d",
   "metadata": {
    "execution": {
     "iopub.execute_input": "2023-12-03T13:31:55.950611Z",
     "iopub.status.busy": "2023-12-03T13:31:55.950081Z",
     "iopub.status.idle": "2023-12-03T13:32:10.530595Z",
     "shell.execute_reply": "2023-12-03T13:32:10.527963Z"
    },
    "papermill": {
     "duration": 14.597112,
     "end_time": "2023-12-03T13:32:10.535947",
     "exception": false,
     "start_time": "2023-12-03T13:31:55.938835",
     "status": "completed"
    },
    "tags": []
   },
   "outputs": [],
   "source": [
    "import numpy as np # linear algebra\n",
    "import pandas as pd # data processing, CSV file I/O (e.g. pd.read_csv)\n",
    "import matplotlib.pyplot as plt\n",
    "\n",
    "import tensorflow as tf # open-source machine learning library developed by Google\n",
    "from tensorflow import keras# simplifies the process of building and training neural network models\n",
    "from tensorflow.keras import layers,models# Keras provide functions and classes for building layers and models in neural networks\n",
    "from tensorflow.keras.callbacks import EarlyStopping# is a callback in Keras that stops training the model when a monitored metric has stopped improving"
   ]
  },
  {
   "cell_type": "code",
   "execution_count": 2,
   "id": "4b10e271",
   "metadata": {
    "execution": {
     "iopub.execute_input": "2023-12-03T13:32:10.572725Z",
     "iopub.status.busy": "2023-12-03T13:32:10.571623Z",
     "iopub.status.idle": "2023-12-03T13:32:17.641659Z",
     "shell.execute_reply": "2023-12-03T13:32:17.640477Z"
    },
    "papermill": {
     "duration": 7.091879,
     "end_time": "2023-12-03T13:32:17.644726",
     "exception": false,
     "start_time": "2023-12-03T13:32:10.552847",
     "status": "completed"
    },
    "tags": []
   },
   "outputs": [],
   "source": [
    "# Load the data\n",
    "train = pd.read_csv(\"/kaggle/input/digit-recognizer/train.csv\")\n",
    "test = pd.read_csv(\"/kaggle/input/digit-recognizer/test.csv\")"
   ]
  },
  {
   "cell_type": "code",
   "execution_count": 3,
   "id": "d1232731",
   "metadata": {
    "execution": {
     "iopub.execute_input": "2023-12-03T13:32:17.666240Z",
     "iopub.status.busy": "2023-12-03T13:32:17.665807Z",
     "iopub.status.idle": "2023-12-03T13:32:17.710474Z",
     "shell.execute_reply": "2023-12-03T13:32:17.709183Z"
    },
    "papermill": {
     "duration": 0.058689,
     "end_time": "2023-12-03T13:32:17.713207",
     "exception": false,
     "start_time": "2023-12-03T13:32:17.654518",
     "status": "completed"
    },
    "tags": []
   },
   "outputs": [
    {
     "data": {
      "text/plain": [
       "label       0\n",
       "pixel0      0\n",
       "pixel1      0\n",
       "pixel2      0\n",
       "pixel3      0\n",
       "           ..\n",
       "pixel779    0\n",
       "pixel780    0\n",
       "pixel781    0\n",
       "pixel782    0\n",
       "pixel783    0\n",
       "Length: 785, dtype: int64"
      ]
     },
     "execution_count": 3,
     "metadata": {},
     "output_type": "execute_result"
    }
   ],
   "source": [
    "train.isnull().sum()"
   ]
  },
  {
   "cell_type": "code",
   "execution_count": 4,
   "id": "8a43c3e0",
   "metadata": {
    "execution": {
     "iopub.execute_input": "2023-12-03T13:32:17.735728Z",
     "iopub.status.busy": "2023-12-03T13:32:17.735280Z",
     "iopub.status.idle": "2023-12-03T13:32:17.759581Z",
     "shell.execute_reply": "2023-12-03T13:32:17.758396Z"
    },
    "papermill": {
     "duration": 0.038388,
     "end_time": "2023-12-03T13:32:17.762070",
     "exception": false,
     "start_time": "2023-12-03T13:32:17.723682",
     "status": "completed"
    },
    "tags": []
   },
   "outputs": [
    {
     "data": {
      "text/plain": [
       "count       785\n",
       "unique        1\n",
       "top       False\n",
       "freq        785\n",
       "dtype: object"
      ]
     },
     "execution_count": 4,
     "metadata": {},
     "output_type": "execute_result"
    }
   ],
   "source": [
    "train.isnull().any().describe()"
   ]
  },
  {
   "cell_type": "code",
   "execution_count": 5,
   "id": "cfafbac0",
   "metadata": {
    "execution": {
     "iopub.execute_input": "2023-12-03T13:32:17.784156Z",
     "iopub.status.busy": "2023-12-03T13:32:17.783743Z",
     "iopub.status.idle": "2023-12-03T13:32:17.799978Z",
     "shell.execute_reply": "2023-12-03T13:32:17.798828Z"
    },
    "papermill": {
     "duration": 0.030512,
     "end_time": "2023-12-03T13:32:17.802772",
     "exception": false,
     "start_time": "2023-12-03T13:32:17.772260",
     "status": "completed"
    },
    "tags": []
   },
   "outputs": [
    {
     "data": {
      "text/plain": [
       "count       784\n",
       "unique        1\n",
       "top       False\n",
       "freq        784\n",
       "dtype: object"
      ]
     },
     "execution_count": 5,
     "metadata": {},
     "output_type": "execute_result"
    }
   ],
   "source": [
    "test.isnull().any().describe()"
   ]
  },
  {
   "cell_type": "code",
   "execution_count": 6,
   "id": "d8c75655",
   "metadata": {
    "execution": {
     "iopub.execute_input": "2023-12-03T13:32:17.825498Z",
     "iopub.status.busy": "2023-12-03T13:32:17.825046Z",
     "iopub.status.idle": "2023-12-03T13:32:18.155257Z",
     "shell.execute_reply": "2023-12-03T13:32:18.153990Z"
    },
    "papermill": {
     "duration": 0.344677,
     "end_time": "2023-12-03T13:32:18.158064",
     "exception": false,
     "start_time": "2023-12-03T13:32:17.813387",
     "status": "completed"
    },
    "tags": []
   },
   "outputs": [],
   "source": [
    "y_train  = train['label'].values # np array of all the labels (42000, )\n",
    "X_train = train.drop(columns=['label']).values.reshape(-1,28,28,1)/255.0 # drop the labels and reshape (num_rows, height , width , channel)\n",
    "X_test = test.values.reshape(-1, 28, 28, 1) / 255.0 # /255.0 --> normalizing these pixel values to the range [0, 1] \n"
   ]
  },
  {
   "cell_type": "code",
   "execution_count": 7,
   "id": "172ebd35",
   "metadata": {
    "execution": {
     "iopub.execute_input": "2023-12-03T13:32:18.180594Z",
     "iopub.status.busy": "2023-12-03T13:32:18.180200Z",
     "iopub.status.idle": "2023-12-03T13:32:19.749234Z",
     "shell.execute_reply": "2023-12-03T13:32:19.747894Z"
    },
    "papermill": {
     "duration": 1.583427,
     "end_time": "2023-12-03T13:32:19.751918",
     "exception": false,
     "start_time": "2023-12-03T13:32:18.168491",
     "status": "completed"
    },
    "tags": []
   },
   "outputs": [
    {
     "data": {
      "image/png": "[encoded data removed]",
      "text/plain": [
       "<Figure size 640x480 with 1 Axes>"
      ]
     },
     "metadata": {},
     "output_type": "display_data"
    }
   ],
   "source": [
    "import pandas as pd\n",
    "import seaborn as sns\n",
    "import matplotlib.pyplot as plt\n",
    "\n",
    "def plot_distribution(df, target_variable):\n",
    "  \"\"\"Plots the distribution of the values in the target variable of a DataFrame.\n",
    "\n",
    "  Args:\n",
    "    df: A DataFrame.\n",
    "    target_variable: The name of the target variable in the DataFrame.\n",
    "  \"\"\"\n",
    "\n",
    "  sns.countplot(x=target_variable, data=df)\n",
    "  plt.title(\"Distribution of Values in Target Variable\")\n",
    "  plt.xlabel(\"Class Label\")\n",
    "  plt.ylabel(\"Count\")\n",
    "  plt.show()\n",
    "\n",
    "\n",
    "def main():\n",
    "\n",
    "  # Extract the target variable and features\n",
    "  Y_train = train[\"label\"]\n",
    "\n",
    "  # Plot the distribution of the values in Y_train\n",
    "  plot_distribution(train, \"label\")\n",
    "\n",
    "\n",
    "if __name__ == \"__main__\":\n",
    "  main()\n"
   ]
  },
  {
   "cell_type": "code",
   "execution_count": 8,
   "id": "6c8cfb88",
   "metadata": {
    "execution": {
     "iopub.execute_input": "2023-12-03T13:32:19.775621Z",
     "iopub.status.busy": "2023-12-03T13:32:19.774850Z",
     "iopub.status.idle": "2023-12-03T13:32:20.484740Z",
     "shell.execute_reply": "2023-12-03T13:32:20.483874Z"
    },
    "papermill": {
     "duration": 0.724209,
     "end_time": "2023-12-03T13:32:20.487015",
     "exception": false,
     "start_time": "2023-12-03T13:32:19.762806",
     "status": "completed"
    },
    "tags": []
   },
   "outputs": [
    {
     "data": {
      "image/png": "[encoded data removed]",
      "text/plain": [
       "<Figure size 1200x500 with 10 Axes>"
      ]
     },
     "metadata": {},
     "output_type": "display_data"
    }
   ],
   "source": [
    "fig , axes  = plt.subplots(2, 5, figsize=(12,5))\n",
    "axes   = axes.flatten()\n",
    "idx = np.random.randint(0, 42000, size=10)\n",
    "for i in range(10):\n",
    "    axes[i].imshow(X_train[idx[i], :].reshape(28,28), cmap='gray')\n",
    "    axes[i].axis('off') # hide the axes ticks\n",
    "    axes[i].set_title(str(int(y_train[idx[i]])), color='black', fontsize=25)\n",
    "plt.show()"
   ]
  },
  {
   "cell_type": "markdown",
   "id": "32b661c1",
   "metadata": {
    "papermill": {
     "duration": 0.010803,
     "end_time": "2023-12-03T13:32:20.509666",
     "exception": false,
     "start_time": "2023-12-03T13:32:20.498863",
     "status": "completed"
    },
    "tags": []
   },
   "source": [
    "# ***Convolutional Neural Network (CNN)***"
   ]
  },
  {
   "cell_type": "code",
   "execution_count": 9,
   "id": "27318825",
   "metadata": {
    "execution": {
     "iopub.execute_input": "2023-12-03T13:32:20.534165Z",
     "iopub.status.busy": "2023-12-03T13:32:20.533669Z",
     "iopub.status.idle": "2023-12-03T13:32:20.777736Z",
     "shell.execute_reply": "2023-12-03T13:32:20.776560Z"
    },
    "papermill": {
     "duration": 0.259964,
     "end_time": "2023-12-03T13:32:20.780773",
     "exception": false,
     "start_time": "2023-12-03T13:32:20.520809",
     "status": "completed"
    },
    "tags": []
   },
   "outputs": [],
   "source": [
    "model = models.Sequential([\n",
    "    layers.Conv2D(filters=32, kernel_size=3, activation='relu', input_shape=(28,28,1)),\n",
    "    #This is a convolutional layer with 32 filters, each with a 3x3 kernel.\n",
    "    #The activation function used is ReLU (Rectified Linear Unit).\n",
    "    #The input_shape parameter is set to (28, 28, 1), indicating the shape of the input images (28x28 pixels with 1 channel, as they are grayscale).\n",
    "    layers.MaxPool2D(pool_size=2),\n",
    "    #This is a max-pooling layer with a pool size of 2x2.\n",
    "    #Max-pooling reduces the spatial dimensions of the input.\n",
    "\n",
    "    layers.Conv2D(filters=64, kernel_size=3, activation='relu'),\n",
    "    layers.MaxPool2D(pool_size=2),\n",
    "\n",
    "    layers.Conv2D(filters=64, kernel_size=3, activation='relu'),\n",
    "\n",
    "    layers.Flatten(),#This layer flattens the output from the previouslayers into a 1D array,\n",
    "                     #preparing it for fully connected layers.\n",
    "\n",
    "    \n",
    "    layers.Dense(units=64, activation='relu'),\n",
    "    layers.Dense(units=10, activation='softmax')\n",
    "\n",
    "])\n",
    "#A fully connected (dense) layer with 64 units and ReLU activation.\n",
    "#The final output layer with 10 units (corresponding to the 10 digits) and softmax activation. \n",
    "#Softmax is used for multi-class classification problems."
   ]
  },
  {
   "cell_type": "code",
   "execution_count": 10,
   "id": "7e894ef5",
   "metadata": {
    "execution": {
     "iopub.execute_input": "2023-12-03T13:32:20.805269Z",
     "iopub.status.busy": "2023-12-03T13:32:20.804827Z",
     "iopub.status.idle": "2023-12-03T13:32:20.840416Z",
     "shell.execute_reply": "2023-12-03T13:32:20.838425Z"
    },
    "papermill": {
     "duration": 0.061066,
     "end_time": "2023-12-03T13:32:20.853141",
     "exception": false,
     "start_time": "2023-12-03T13:32:20.792075",
     "status": "completed"
    },
    "tags": []
   },
   "outputs": [
    {
     "name": "stdout",
     "output_type": "stream",
     "text": [
      "Model: \"sequential\"\n",
      "_________________________________________________________________\n",
      " Layer (type)                Output Shape              Param #   \n",
      "=================================================================\n",
      " conv2d (Conv2D)             (None, 26, 26, 32)        320       \n",
      "                                                                 \n",
      " max_pooling2d (MaxPooling2  (None, 13, 13, 32)        0         \n",
      " D)                                                              \n",
      "                                                                 \n",
      " conv2d_1 (Conv2D)           (None, 11, 11, 64)        18496     \n",
      "                                                                 \n",
      " max_pooling2d_1 (MaxPoolin  (None, 5, 5, 64)          0         \n",
      " g2D)                                                            \n",
      "                                                                 \n",
      " conv2d_2 (Conv2D)           (None, 3, 3, 64)          36928     \n",
      "                                                                 \n",
      " flatten (Flatten)           (None, 576)               0         \n",
      "                                                                 \n",
      " dense (Dense)               (None, 64)                36928     \n",
      "                                                                 \n",
      " dense_1 (Dense)             (None, 10)                650       \n",
      "                                                                 \n",
      "=================================================================\n",
      "Total params: 93322 (364.54 KB)\n",
      "Trainable params: 93322 (364.54 KB)\n",
      "Non-trainable params: 0 (0.00 Byte)\n",
      "_________________________________________________________________\n"
     ]
    }
   ],
   "source": [
    "model.summary()"
   ]
  },
  {
   "cell_type": "code",
   "execution_count": 11,
   "id": "da8fd86d",
   "metadata": {
    "execution": {
     "iopub.execute_input": "2023-12-03T13:32:20.882883Z",
     "iopub.status.busy": "2023-12-03T13:32:20.882377Z",
     "iopub.status.idle": "2023-12-03T13:32:20.904075Z",
     "shell.execute_reply": "2023-12-03T13:32:20.903039Z"
    },
    "papermill": {
     "duration": 0.039565,
     "end_time": "2023-12-03T13:32:20.906872",
     "exception": false,
     "start_time": "2023-12-03T13:32:20.867307",
     "status": "completed"
    },
    "tags": []
   },
   "outputs": [],
   "source": [
    "#optimizer='adam': Adam is an optimization algorithm. It adapts the learning rates during training.\n",
    "#loss='sparse_categorical_crossentropy': This is the loss function used for multi-class classification problems where the labels are integers (as opposed to one-hot encoded). It measures the difference between the predicted and true labels.\n",
    "#metrics=['accuracy']: During training, it monitors and displays the accuracy of the model.\n",
    "model.compile(optimizer='adam',\n",
    "              loss='sparse_categorical_crossentropy',\n",
    "              metrics=['accuracy'])"
   ]
  },
  {
   "cell_type": "code",
   "execution_count": 12,
   "id": "6d08c9a8",
   "metadata": {
    "execution": {
     "iopub.execute_input": "2023-12-03T13:32:20.936233Z",
     "iopub.status.busy": "2023-12-03T13:32:20.935792Z",
     "iopub.status.idle": "2023-12-03T13:32:20.941924Z",
     "shell.execute_reply": "2023-12-03T13:32:20.940666Z"
    },
    "papermill": {
     "duration": 0.023762,
     "end_time": "2023-12-03T13:32:20.944485",
     "exception": false,
     "start_time": "2023-12-03T13:32:20.920723",
     "status": "completed"
    },
    "tags": []
   },
   "outputs": [],
   "source": [
    "#EarlyStopping: It's a callback that stops training the model when a monitored metric (in this case, 'val_loss') has stopped improving.\n",
    "#monitor='val_loss': It monitors the validation loss.\n",
    "#patience=2: Training will stop after 2 epochs with no improvement in the monitored metric.\n",
    "#restore_best_weights=True: Restores the model weights from the epoch with the best value of the monitored metric.\n",
    "\n",
    "early_stopping = EarlyStopping(\n",
    "    monitor='val_loss',\n",
    "    patience=2,\n",
    "    restore_best_weights=True\n",
    ")"
   ]
  },
  {
   "cell_type": "code",
   "execution_count": 13,
   "id": "8d2af401",
   "metadata": {
    "execution": {
     "iopub.execute_input": "2023-12-03T13:32:20.973665Z",
     "iopub.status.busy": "2023-12-03T13:32:20.973273Z",
     "iopub.status.idle": "2023-12-03T13:35:15.750832Z",
     "shell.execute_reply": "2023-12-03T13:35:15.748868Z"
    },
    "papermill": {
     "duration": 174.795523,
     "end_time": "2023-12-03T13:35:15.753870",
     "exception": false,
     "start_time": "2023-12-03T13:32:20.958347",
     "status": "completed"
    },
    "tags": []
   },
   "outputs": [
    {
     "name": "stdout",
     "output_type": "stream",
     "text": [
      "Epoch 1/50\n",
      "1182/1182 [==============================] - 23s 19ms/step - loss: 0.1964 - accuracy: 0.9368 - val_loss: 0.0671 - val_accuracy: 0.9800\n",
      "Epoch 2/50\n",
      "1182/1182 [==============================] - 22s 19ms/step - loss: 0.0563 - accuracy: 0.9826 - val_loss: 0.0475 - val_accuracy: 0.9857\n",
      "Epoch 3/50\n",
      "1182/1182 [==============================] - 22s 18ms/step - loss: 0.0386 - accuracy: 0.9877 - val_loss: 0.0442 - val_accuracy: 0.9871\n",
      "Epoch 4/50\n",
      "1182/1182 [==============================] - 22s 18ms/step - loss: 0.0311 - accuracy: 0.9901 - val_loss: 0.0386 - val_accuracy: 0.9886\n",
      "Epoch 5/50\n",
      "1182/1182 [==============================] - 21s 18ms/step - loss: 0.0245 - accuracy: 0.9921 - val_loss: 0.0398 - val_accuracy: 0.9886\n",
      "Epoch 6/50\n",
      "1182/1182 [==============================] - 22s 18ms/step - loss: 0.0200 - accuracy: 0.9932 - val_loss: 0.0329 - val_accuracy: 0.9890\n",
      "Epoch 7/50\n",
      "1182/1182 [==============================] - 22s 18ms/step - loss: 0.0179 - accuracy: 0.9938 - val_loss: 0.0517 - val_accuracy: 0.9833\n",
      "Epoch 8/50\n",
      "1182/1182 [==============================] - 21s 18ms/step - loss: 0.0135 - accuracy: 0.9957 - val_loss: 0.0386 - val_accuracy: 0.9890\n"
     ]
    }
   ],
   "source": [
    "#epochs=50: Number of epochs for training (iterations over the entire dataset).\n",
    "#validation_split=0.1: 10% of the training data is used for validation during training.\n",
    "#callbacks=[early_stopping]: Early stopping callback is applied.\n",
    "\n",
    "\n",
    "\n",
    "history = model.fit(\n",
    "    X_train, y_train, \n",
    "    epochs=50,\n",
    "    validation_split=0.1, \n",
    "    callbacks=[early_stopping],\n",
    ")"
   ]
  },
  {
   "cell_type": "code",
   "execution_count": 14,
   "id": "bf390a39",
   "metadata": {
    "execution": {
     "iopub.execute_input": "2023-12-03T13:35:16.338864Z",
     "iopub.status.busy": "2023-12-03T13:35:16.338433Z",
     "iopub.status.idle": "2023-12-03T13:35:22.441840Z",
     "shell.execute_reply": "2023-12-03T13:35:22.440633Z"
    },
    "papermill": {
     "duration": 6.396681,
     "end_time": "2023-12-03T13:35:22.444221",
     "exception": false,
     "start_time": "2023-12-03T13:35:16.047540",
     "status": "completed"
    },
    "tags": []
   },
   "outputs": [
    {
     "name": "stdout",
     "output_type": "stream",
     "text": [
      "875/875 [==============================] - 5s 6ms/step\n"
     ]
    },
    {
     "data": {
      "text/plain": [
       "array([[4.6427675e-09, 1.1809883e-08, 9.9999863e-01, ..., 8.9154599e-07,\n",
       "        1.7971084e-10, 3.2955347e-11],\n",
       "       [9.9987698e-01, 2.7122476e-10, 4.1069507e-07, ..., 1.1793558e-06,\n",
       "        3.7686906e-08, 3.1434120e-05],\n",
       "       [2.3406386e-09, 8.3380751e-09, 1.2060537e-08, ..., 1.5116603e-06,\n",
       "        9.9930264e-07, 9.9981952e-01],\n",
       "       ...,\n",
       "       [2.9662054e-16, 2.7434281e-12, 5.4574411e-14, ..., 1.7990647e-11,\n",
       "        1.3490445e-11, 1.0856445e-12],\n",
       "       [8.5171781e-09, 1.8036979e-09, 1.0792212e-09, ..., 8.5672866e-07,\n",
       "        5.6476242e-08, 9.9987769e-01],\n",
       "       [9.5095487e-11, 3.6617256e-09, 9.9999982e-01, ..., 7.6559267e-08,\n",
       "        6.1166738e-10, 8.7405858e-13]], dtype=float32)"
      ]
     },
     "execution_count": 14,
     "metadata": {},
     "output_type": "execute_result"
    }
   ],
   "source": [
    "predictions = model.predict(X_test)\n",
    "predictions"
   ]
  },
  {
   "cell_type": "code",
   "execution_count": 15,
   "id": "14c75bcb",
   "metadata": {
    "execution": {
     "iopub.execute_input": "2023-12-03T13:35:23.053296Z",
     "iopub.status.busy": "2023-12-03T13:35:23.052827Z",
     "iopub.status.idle": "2023-12-03T13:35:23.063620Z",
     "shell.execute_reply": "2023-12-03T13:35:23.062415Z"
    },
    "papermill": {
     "duration": 0.318848,
     "end_time": "2023-12-03T13:35:23.066428",
     "exception": false,
     "start_time": "2023-12-03T13:35:22.747580",
     "status": "completed"
    },
    "tags": []
   },
   "outputs": [
    {
     "data": {
      "text/plain": [
       "array([2, 0, 9, ..., 3, 9, 2])"
      ]
     },
     "execution_count": 15,
     "metadata": {},
     "output_type": "execute_result"
    }
   ],
   "source": [
    "# Convert the model's probability outputs to digit predictions\n",
    "predicted_labels = np.argmax(predictions, axis=1)\n",
    "predicted_labels"
   ]
  },
  {
   "cell_type": "code",
   "execution_count": 16,
   "id": "a16ebace",
   "metadata": {
    "execution": {
     "iopub.execute_input": "2023-12-03T13:35:23.674759Z",
     "iopub.status.busy": "2023-12-03T13:35:23.674310Z",
     "iopub.status.idle": "2023-12-03T13:35:24.409494Z",
     "shell.execute_reply": "2023-12-03T13:35:24.408169Z"
    },
    "papermill": {
     "duration": 1.043156,
     "end_time": "2023-12-03T13:35:24.412519",
     "exception": false,
     "start_time": "2023-12-03T13:35:23.369363",
     "status": "completed"
    },
    "tags": []
   },
   "outputs": [
    {
     "data": {
      "image/png": "[encoded data removed]",
      "text/plain": [
       "<Figure size 1000x1200 with 10 Axes>"
      ]
     },
     "metadata": {},
     "output_type": "display_data"
    }
   ],
   "source": [
    "# Display actual and predicted labels with images\n",
    "fig, axes = plt.subplots(5, 2, figsize=(10, 12))\n",
    "axes = axes.flatten()\n",
    "\n",
    "for i in range(10):\n",
    "    axes[i].imshow(X_test[i, :].reshape(28, 28), cmap='gray')\n",
    "    axes[i].axis('off')  # hide the axes ticks\n",
    "    axes[i].set_title(f\"Actual: {predicted_labels[i]}\\nPredicted: {np.argmax(predictions[i])}\", color='black', fontsize=10)\n",
    "\n",
    "plt.show()\n"
   ]
  },
  {
   "cell_type": "markdown",
   "id": "edf73060",
   "metadata": {
    "papermill": {
     "duration": 0.301261,
     "end_time": "2023-12-03T13:35:25.017133",
     "exception": false,
     "start_time": "2023-12-03T13:35:24.715872",
     "status": "completed"
    },
    "tags": []
   },
   "source": [
    "# ***Deep Neural Network(DNN)***"
   ]
  },
  {
   "cell_type": "code",
   "execution_count": 17,
   "id": "0bb33486",
   "metadata": {
    "execution": {
     "iopub.execute_input": "2023-12-03T13:35:25.691952Z",
     "iopub.status.busy": "2023-12-03T13:35:25.691518Z",
     "iopub.status.idle": "2023-12-03T13:36:13.559851Z",
     "shell.execute_reply": "2023-12-03T13:36:13.558901Z"
    },
    "papermill": {
     "duration": 48.174255,
     "end_time": "2023-12-03T13:36:13.562430",
     "exception": false,
     "start_time": "2023-12-03T13:35:25.388175",
     "status": "completed"
    },
    "tags": []
   },
   "outputs": [
    {
     "name": "stdout",
     "output_type": "stream",
     "text": [
      "Model: \"sequential_1\"\n",
      "_________________________________________________________________\n",
      " Layer (type)                Output Shape              Param #   \n",
      "=================================================================\n",
      " dense_2 (Dense)             (None, 128)               100480    \n",
      "                                                                 \n",
      " dense_3 (Dense)             (None, 64)                8256      \n",
      "                                                                 \n",
      " dense_4 (Dense)             (None, 10)                650       \n",
      "                                                                 \n",
      "=================================================================\n",
      "Total params: 109386 (427.29 KB)\n",
      "Trainable params: 109386 (427.29 KB)\n",
      "Non-trainable params: 0 (0.00 Byte)\n",
      "_________________________________________________________________\n",
      "Epoch 1/10\n",
      "1182/1182 [==============================] - 6s 4ms/step - loss: 0.2978 - accuracy: 0.9142 - val_loss: 0.1492 - val_accuracy: 0.9543\n",
      "Epoch 2/10\n",
      "1182/1182 [==============================] - 5s 4ms/step - loss: 0.1214 - accuracy: 0.9615 - val_loss: 0.1125 - val_accuracy: 0.9650\n",
      "Epoch 3/10\n",
      "1182/1182 [==============================] - 5s 4ms/step - loss: 0.0815 - accuracy: 0.9743 - val_loss: 0.1126 - val_accuracy: 0.9640\n",
      "Epoch 4/10\n",
      "1182/1182 [==============================] - 5s 4ms/step - loss: 0.0638 - accuracy: 0.9801 - val_loss: 0.1134 - val_accuracy: 0.9660\n",
      "Epoch 5/10\n",
      "1182/1182 [==============================] - 5s 4ms/step - loss: 0.0480 - accuracy: 0.9855 - val_loss: 0.1069 - val_accuracy: 0.9690\n",
      "Epoch 6/10\n",
      "1182/1182 [==============================] - 5s 4ms/step - loss: 0.0382 - accuracy: 0.9875 - val_loss: 0.1111 - val_accuracy: 0.9698\n",
      "Epoch 7/10\n",
      "1182/1182 [==============================] - 5s 4ms/step - loss: 0.0318 - accuracy: 0.9894 - val_loss: 0.0969 - val_accuracy: 0.9729\n",
      "Epoch 8/10\n",
      "1182/1182 [==============================] - 5s 4ms/step - loss: 0.0258 - accuracy: 0.9907 - val_loss: 0.1047 - val_accuracy: 0.9740\n",
      "Epoch 9/10\n",
      "1182/1182 [==============================] - 5s 4ms/step - loss: 0.0206 - accuracy: 0.9931 - val_loss: 0.1022 - val_accuracy: 0.9743\n",
      "Epoch 10/10\n",
      "1182/1182 [==============================] - 5s 4ms/step - loss: 0.0188 - accuracy: 0.9939 - val_loss: 0.1012 - val_accuracy: 0.9769\n"
     ]
    }
   ],
   "source": [
    "from tensorflow.keras.models import Sequential\n",
    "from tensorflow.keras.layers import Dense, Flatten\n",
    "\n",
    "# Assuming X_train has shape (num_samples, 28, 28, 1)\n",
    "# Reshape it to (num_samples, 784) for DNN input\n",
    "X_train_flattened = X_train.reshape(X_train.shape[0], -1)\n",
    "\n",
    "# Define DNN model\n",
    "dnn_model = Sequential([\n",
    "    Dense(units=128, activation='relu', input_shape=(784,)),  # Input layer\n",
    "    Dense(units=64, activation='relu'),  # Hidden layer\n",
    "    Dense(units=10, activation='softmax')  # Output layer with 10 units for classification\n",
    "])\n",
    "\n",
    "# Compile DNN model\n",
    "dnn_model.compile(optimizer='adam',\n",
    "                  loss='sparse_categorical_crossentropy',\n",
    "                  metrics=['accuracy'])\n",
    "\n",
    "# Display DNN model summary\n",
    "dnn_model.summary()\n",
    "\n",
    "# Train DNN model\n",
    "dnn_history = dnn_model.fit(X_train_flattened, y_train, epochs=10, validation_split=0.1)\n"
   ]
  },
  {
   "cell_type": "code",
   "execution_count": 18,
   "id": "bbdf90ad",
   "metadata": {
    "execution": {
     "iopub.execute_input": "2023-12-03T13:36:14.342961Z",
     "iopub.status.busy": "2023-12-03T13:36:14.341745Z",
     "iopub.status.idle": "2023-12-03T13:36:20.069291Z",
     "shell.execute_reply": "2023-12-03T13:36:20.067888Z"
    },
    "papermill": {
     "duration": 6.122478,
     "end_time": "2023-12-03T13:36:20.072142",
     "exception": false,
     "start_time": "2023-12-03T13:36:13.949664",
     "status": "completed"
    },
    "tags": []
   },
   "outputs": [
    {
     "name": "stdout",
     "output_type": "stream",
     "text": [
      "875/875 [==============================] - 5s 6ms/step\n"
     ]
    },
    {
     "data": {
      "text/plain": [
       "array([[4.6427675e-09, 1.1809883e-08, 9.9999863e-01, ..., 8.9154599e-07,\n",
       "        1.7971084e-10, 3.2955347e-11],\n",
       "       [9.9987698e-01, 2.7122476e-10, 4.1069507e-07, ..., 1.1793558e-06,\n",
       "        3.7686906e-08, 3.1434120e-05],\n",
       "       [2.3406386e-09, 8.3380751e-09, 1.2060537e-08, ..., 1.5116603e-06,\n",
       "        9.9930264e-07, 9.9981952e-01],\n",
       "       ...,\n",
       "       [2.9662054e-16, 2.7434281e-12, 5.4574411e-14, ..., 1.7990647e-11,\n",
       "        1.3490445e-11, 1.0856445e-12],\n",
       "       [8.5171781e-09, 1.8036979e-09, 1.0792212e-09, ..., 8.5672866e-07,\n",
       "        5.6476242e-08, 9.9987769e-01],\n",
       "       [9.5095487e-11, 3.6617256e-09, 9.9999982e-01, ..., 7.6559267e-08,\n",
       "        6.1166738e-10, 8.7405858e-13]], dtype=float32)"
      ]
     },
     "execution_count": 18,
     "metadata": {},
     "output_type": "execute_result"
    }
   ],
   "source": [
    "predictions = model.predict(X_test)\n",
    "predictions"
   ]
  },
  {
   "cell_type": "code",
   "execution_count": 19,
   "id": "a9bf4ab2",
   "metadata": {
    "execution": {
     "iopub.execute_input": "2023-12-03T13:36:20.871309Z",
     "iopub.status.busy": "2023-12-03T13:36:20.870517Z",
     "iopub.status.idle": "2023-12-03T13:36:20.879968Z",
     "shell.execute_reply": "2023-12-03T13:36:20.878682Z"
    },
    "papermill": {
     "duration": 0.412606,
     "end_time": "2023-12-03T13:36:20.882498",
     "exception": false,
     "start_time": "2023-12-03T13:36:20.469892",
     "status": "completed"
    },
    "tags": []
   },
   "outputs": [
    {
     "data": {
      "text/plain": [
       "array([2, 0, 9, ..., 3, 9, 2])"
      ]
     },
     "execution_count": 19,
     "metadata": {},
     "output_type": "execute_result"
    }
   ],
   "source": [
    "# Convert the model's probability outputs to digit predictions\n",
    "predicted_labels = np.argmax(predictions, axis=1)\n",
    "predicted_labels"
   ]
  },
  {
   "cell_type": "code",
   "execution_count": 20,
   "id": "f3fc588d",
   "metadata": {
    "execution": {
     "iopub.execute_input": "2023-12-03T13:36:21.757539Z",
     "iopub.status.busy": "2023-12-03T13:36:21.757057Z",
     "iopub.status.idle": "2023-12-03T13:36:22.547533Z",
     "shell.execute_reply": "2023-12-03T13:36:22.546216Z"
    },
    "papermill": {
     "duration": 1.256426,
     "end_time": "2023-12-03T13:36:22.550638",
     "exception": false,
     "start_time": "2023-12-03T13:36:21.294212",
     "status": "completed"
    },
    "tags": []
   },
   "outputs": [
    {
     "data": {
      "image/png": "[encoded data removed]",
      "text/plain": [
       "<Figure size 1000x1200 with 10 Axes>"
      ]
     },
     "metadata": {},
     "output_type": "display_data"
    }
   ],
   "source": [
    "# Display actual and predicted labels with images\n",
    "fig, axes = plt.subplots(5, 2, figsize=(10, 12))\n",
    "axes = axes.flatten()\n",
    "\n",
    "for i in range(10):\n",
    "    axes[i].imshow(X_test[i, :].reshape(28, 28), cmap='gray')\n",
    "    axes[i].axis('off')  # hide the axes ticks\n",
    "    axes[i].set_title(f\"Actual: {predicted_labels[i]}\\nPredicted: {np.argmax(predictions[i])}\", color='black', fontsize=10)\n",
    "\n",
    "plt.show()\n"
   ]
  },
  {
   "cell_type": "markdown",
   "id": "7014756e",
   "metadata": {
    "papermill": {
     "duration": 0.401315,
     "end_time": "2023-12-03T13:36:23.422867",
     "exception": false,
     "start_time": "2023-12-03T13:36:23.021552",
     "status": "completed"
    },
    "tags": []
   },
   "source": [
    "# ***Simple Neural Network(SNN)***"
   ]
  },
  {
   "cell_type": "code",
   "execution_count": 21,
   "id": "01abfb45",
   "metadata": {
    "execution": {
     "iopub.execute_input": "2023-12-03T13:36:24.222225Z",
     "iopub.status.busy": "2023-12-03T13:36:24.220905Z",
     "iopub.status.idle": "2023-12-03T13:36:49.993777Z",
     "shell.execute_reply": "2023-12-03T13:36:49.992380Z"
    },
    "papermill": {
     "duration": 26.17493,
     "end_time": "2023-12-03T13:36:49.996602",
     "exception": false,
     "start_time": "2023-12-03T13:36:23.821672",
     "status": "completed"
    },
    "tags": []
   },
   "outputs": [
    {
     "name": "stdout",
     "output_type": "stream",
     "text": [
      "Model: \"sequential_2\"\n",
      "_________________________________________________________________\n",
      " Layer (type)                Output Shape              Param #   \n",
      "=================================================================\n",
      " flatten_1 (Flatten)         (None, 784)               0         \n",
      "                                                                 \n",
      " dense_5 (Dense)             (None, 10)                7850      \n",
      "                                                                 \n",
      "=================================================================\n",
      "Total params: 7850 (30.66 KB)\n",
      "Trainable params: 7850 (30.66 KB)\n",
      "Non-trainable params: 0 (0.00 Byte)\n",
      "_________________________________________________________________\n",
      "Epoch 1/10\n",
      "1182/1182 [==============================] - 3s 2ms/step - loss: 0.5478 - accuracy: 0.8578 - val_loss: 0.3512 - val_accuracy: 0.9052\n",
      "Epoch 2/10\n",
      "1182/1182 [==============================] - 2s 2ms/step - loss: 0.3213 - accuracy: 0.9112 - val_loss: 0.3030 - val_accuracy: 0.9186\n",
      "Epoch 3/10\n",
      "1182/1182 [==============================] - 2s 2ms/step - loss: 0.2909 - accuracy: 0.9187 - val_loss: 0.2892 - val_accuracy: 0.9200\n",
      "Epoch 4/10\n",
      "1182/1182 [==============================] - 2s 2ms/step - loss: 0.2765 - accuracy: 0.9220 - val_loss: 0.2822 - val_accuracy: 0.9210\n",
      "Epoch 5/10\n",
      "1182/1182 [==============================] - 2s 2ms/step - loss: 0.2673 - accuracy: 0.9243 - val_loss: 0.2820 - val_accuracy: 0.9236\n",
      "Epoch 6/10\n",
      "1182/1182 [==============================] - 3s 2ms/step - loss: 0.2606 - accuracy: 0.9263 - val_loss: 0.2781 - val_accuracy: 0.9231\n",
      "Epoch 7/10\n",
      "1182/1182 [==============================] - 3s 2ms/step - loss: 0.2553 - accuracy: 0.9279 - val_loss: 0.2755 - val_accuracy: 0.9274\n",
      "Epoch 8/10\n",
      "1182/1182 [==============================] - 2s 2ms/step - loss: 0.2514 - accuracy: 0.9285 - val_loss: 0.2710 - val_accuracy: 0.9255\n",
      "Epoch 9/10\n",
      "1182/1182 [==============================] - 3s 2ms/step - loss: 0.2472 - accuracy: 0.9294 - val_loss: 0.2725 - val_accuracy: 0.9281\n",
      "Epoch 10/10\n",
      "1182/1182 [==============================] - 3s 2ms/step - loss: 0.2443 - accuracy: 0.9304 - val_loss: 0.2721 - val_accuracy: 0.9238\n"
     ]
    }
   ],
   "source": [
    "from tensorflow.keras.models import Sequential\n",
    "from tensorflow.keras.layers import Dense, Flatten\n",
    "\n",
    "# Define SNN model\n",
    "snn_model = Sequential([\n",
    "    Flatten(input_shape=(28, 28, 1)),  # Flatten layer to convert input to 1D\n",
    "    Dense(units=10, activation='softmax')  # Output layer with 10 units for classification\n",
    "])\n",
    "\n",
    "# Compile SNN model\n",
    "snn_model.compile(optimizer='adam',\n",
    "                  loss='sparse_categorical_crossentropy',\n",
    "                  metrics=['accuracy'])\n",
    "\n",
    "# Display SNN model summary\n",
    "snn_model.summary()\n",
    "\n",
    "# Train SNN model (assuming you have X_train and y_train defined)\n",
    "snn_history = snn_model.fit(X_train, y_train, epochs=10, validation_split=0.1)\n",
    "\n",
    "\n"
   ]
  },
  {
   "cell_type": "code",
   "execution_count": 22,
   "id": "ae00ad41",
   "metadata": {
    "execution": {
     "iopub.execute_input": "2023-12-03T13:36:50.884717Z",
     "iopub.status.busy": "2023-12-03T13:36:50.884312Z",
     "iopub.status.idle": "2023-12-03T13:36:56.938264Z",
     "shell.execute_reply": "2023-12-03T13:36:56.936940Z"
    },
    "papermill": {
     "duration": 6.500362,
     "end_time": "2023-12-03T13:36:56.941016",
     "exception": false,
     "start_time": "2023-12-03T13:36:50.440654",
     "status": "completed"
    },
    "tags": []
   },
   "outputs": [
    {
     "name": "stdout",
     "output_type": "stream",
     "text": [
      "875/875 [==============================] - 6s 6ms/step\n"
     ]
    },
    {
     "data": {
      "text/plain": [
       "array([[4.6427675e-09, 1.1809883e-08, 9.9999863e-01, ..., 8.9154599e-07,\n",
       "        1.7971084e-10, 3.2955347e-11],\n",
       "       [9.9987698e-01, 2.7122476e-10, 4.1069507e-07, ..., 1.1793558e-06,\n",
       "        3.7686906e-08, 3.1434120e-05],\n",
       "       [2.3406386e-09, 8.3380751e-09, 1.2060537e-08, ..., 1.5116603e-06,\n",
       "        9.9930264e-07, 9.9981952e-01],\n",
       "       ...,\n",
       "       [2.9662054e-16, 2.7434281e-12, 5.4574411e-14, ..., 1.7990647e-11,\n",
       "        1.3490445e-11, 1.0856445e-12],\n",
       "       [8.5171781e-09, 1.8036979e-09, 1.0792212e-09, ..., 8.5672866e-07,\n",
       "        5.6476242e-08, 9.9987769e-01],\n",
       "       [9.5095487e-11, 3.6617256e-09, 9.9999982e-01, ..., 7.6559267e-08,\n",
       "        6.1166738e-10, 8.7405858e-13]], dtype=float32)"
      ]
     },
     "execution_count": 22,
     "metadata": {},
     "output_type": "execute_result"
    }
   ],
   "source": [
    "predictions = model.predict(X_test)\n",
    "predictions"
   ]
  },
  {
   "cell_type": "code",
   "execution_count": 23,
   "id": "6a788acf",
   "metadata": {
    "execution": {
     "iopub.execute_input": "2023-12-03T13:36:57.905628Z",
     "iopub.status.busy": "2023-12-03T13:36:57.905206Z",
     "iopub.status.idle": "2023-12-03T13:36:57.913907Z",
     "shell.execute_reply": "2023-12-03T13:36:57.912704Z"
    },
    "papermill": {
     "duration": 0.528738,
     "end_time": "2023-12-03T13:36:57.916272",
     "exception": false,
     "start_time": "2023-12-03T13:36:57.387534",
     "status": "completed"
    },
    "tags": []
   },
   "outputs": [
    {
     "data": {
      "text/plain": [
       "array([2, 0, 9, ..., 3, 9, 2])"
      ]
     },
     "execution_count": 23,
     "metadata": {},
     "output_type": "execute_result"
    }
   ],
   "source": [
    "# Convert the model's probability outputs to digit predictions\n",
    "predicted_labels = np.argmax(predictions, axis=1)\n",
    "predicted_labels"
   ]
  },
  {
   "cell_type": "code",
   "execution_count": 24,
   "id": "bb6e4ea4",
   "metadata": {
    "execution": {
     "iopub.execute_input": "2023-12-03T13:36:58.821430Z",
     "iopub.status.busy": "2023-12-03T13:36:58.820539Z",
     "iopub.status.idle": "2023-12-03T13:36:59.560036Z",
     "shell.execute_reply": "2023-12-03T13:36:59.558095Z"
    },
    "papermill": {
     "duration": 1.194989,
     "end_time": "2023-12-03T13:36:59.563485",
     "exception": false,
     "start_time": "2023-12-03T13:36:58.368496",
     "status": "completed"
    },
    "tags": []
   },
   "outputs": [
    {
     "data": {
      "image/png": "[encoded data removed]",
      "text/plain": [
       "<Figure size 1000x1200 with 10 Axes>"
      ]
     },
     "metadata": {},
     "output_type": "display_data"
    }
   ],
   "source": [
    "# Display actual and predicted labels with images\n",
    "fig, axes = plt.subplots(5, 2, figsize=(10, 12))\n",
    "axes = axes.flatten()\n",
    "\n",
    "for i in range(10):\n",
    "    axes[i].imshow(X_test[i, :].reshape(28, 28), cmap='gray')\n",
    "    axes[i].axis('off')  # hide the axes ticks\n",
    "    axes[i].set_title(f\"Actual: {predicted_labels[i]}\\nPredicted: {np.argmax(predictions[i])}\", color='black', fontsize=10)\n",
    "\n",
    "plt.show()\n"
   ]
  },
  {
   "cell_type": "code",
   "execution_count": null,
   "id": "7033d5fc",
   "metadata": {
    "papermill": {
     "duration": 0.456849,
     "end_time": "2023-12-03T13:37:00.475837",
     "exception": false,
     "start_time": "2023-12-03T13:37:00.018988",
     "status": "completed"
    },
    "tags": []
   },
   "outputs": [],
   "source": []
  }
 ],
 "metadata": {
  "kaggle": {
   "accelerator": "none",
   "dataSources": [
    {
     "databundleVersionId": 861823,
     "sourceId": 3004,
     "sourceType": "competition"
    }
   ],
   "dockerImageVersionId": 30587,
   "isGpuEnabled": false,
   "isInternetEnabled": true,
   "language": "python",
   "sourceType": "notebook"
  },
  "kernelspec": {
   "display_name": "Python 3",
   "language": "python",
   "name": "python3"
  },
  "language_info": {
   "codemirror_mode": {
    "name": "ipython",
    "version": 3
   },
   "file_extension": ".py",
   "mimetype": "text/x-python",
   "name": "python",
   "nbconvert_exporter": "python",
   "pygments_lexer": "ipython3",
   "version": "3.10.12"
  },
  "papermill": {
   "default_parameters": {},
   "duration": 310.558061,
   "end_time": "2023-12-03T13:37:02.856084",
   "environment_variables": {},
   "exception": null,
   "input_path": "__notebook__.ipynb",
   "output_path": "__notebook__.ipynb",
   "parameters": {},
   "start_time": "2023-12-03T13:31:52.298023",
   "version": "2.4.0"
  }
 },
 "nbformat": 4,
 "nbformat_minor": 5
}
